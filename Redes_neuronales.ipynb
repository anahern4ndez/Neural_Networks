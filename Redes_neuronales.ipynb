{
 "cells": [
  {
   "cell_type": "code",
   "execution_count": 1,
   "metadata": {},
   "outputs": [],
   "source": [
    "from back_propagation import *\n",
    "import numpy as np\n",
    "import mnist_reader\n",
    "import scipy.optimize as optimize\n",
    "import time\n",
    "import csv \n",
    "import pickle\n"
   ]
  },
  {
   "cell_type": "code",
   "execution_count": 2,
   "metadata": {},
   "outputs": [],
   "source": [
    "X_train, y_train = mnist_reader.load_mnist('data/', kind='train')"
   ]
  },
  {
   "cell_type": "code",
   "execution_count": 3,
   "metadata": {},
   "outputs": [],
   "source": [
    "X = X_train / 100000.0\n",
    "m,n = X.shape\n",
    "HIDDEN_LAYER = 130 # Cantidad de neuronas en la capa oculta\n",
    "FINAL_LAYER = 10 # cantidad de neuronas en la capa final "
   ]
  },
  {
   "cell_type": "code",
   "execution_count": 4,
   "metadata": {},
   "outputs": [],
   "source": [
    "Y = np.zeros((X.shape[0], FINAL_LAYER))\n",
    "for i in range(m):\n",
    "    Y[i][y_train[i]] = 1"
   ]
  },
  {
   "cell_type": "code",
   "execution_count": 5,
   "metadata": {},
   "outputs": [],
   "source": [
    "theta_shapes = np.array([\n",
    "    [ HIDDEN_LAYER, n+1 ],\n",
    "    [ FINAL_LAYER, HIDDEN_LAYER+1 ]\n",
    "])\n"
   ]
  },
  {
   "cell_type": "code",
   "execution_count": 6,
   "metadata": {},
   "outputs": [],
   "source": [
    "flat_thetas = flatten_matrixes([\n",
    "    np.random.rand(*theta_shape)\n",
    "    for theta_shape in theta_shapes\n",
    "])"
   ]
  },
  {
   "cell_type": "code",
   "execution_count": 7,
   "metadata": {},
   "outputs": [
    {
     "name": "stderr",
     "output_type": "stream",
     "text": [
      "/Users/polaris/Documents/7/INTELIGENCIA ARTIFICIAL/Neural_Networks/back_propagation.py:95: RuntimeWarning: divide by zero encountered in log\n",
      "  return -(Y * np.log(a[-1]) + (1 - Y) * np.log(1.0 - a[-1])).sum() / len(X)\n",
      "/Users/polaris/Documents/7/INTELIGENCIA ARTIFICIAL/Neural_Networks/back_propagation.py:95: RuntimeWarning: invalid value encountered in multiply\n",
      "  return -(Y * np.log(a[-1]) + (1 - Y) * np.log(1.0 - a[-1])).sum() / len(X)\n",
      "/Users/polaris/Documents/7/INTELIGENCIA ARTIFICIAL/Neural_Networks/back_propagation.py:6: RuntimeWarning: overflow encountered in exp\n",
      "  return (1.0 + np.exp(-z))**-1.0\n"
     ]
    }
   ],
   "source": [
    "result = optimize.minimize(\n",
    "    fun=nn_cost,\n",
    "    x0=flat_thetas,\n",
    "    args=(theta_shapes, X, Y),\n",
    "    method='L-BFGS-B',\n",
    "    jac=back_propagation,\n",
    "    options={\n",
    "        'disp': True, \n",
    "        'maxiter': 1300\n",
    "    }\n",
    ")"
   ]
  },
  {
   "cell_type": "code",
   "execution_count": null,
   "metadata": {},
   "outputs": [],
   "source": []
  }
 ],
 "metadata": {
  "kernelspec": {
   "display_name": "Python 3",
   "language": "python",
   "name": "python3"
  },
  "language_info": {
   "codemirror_mode": {
    "name": "ipython",
    "version": 3
   },
   "file_extension": ".py",
   "mimetype": "text/x-python",
   "name": "python",
   "nbconvert_exporter": "python",
   "pygments_lexer": "ipython3",
   "version": "3.7.2"
  }
 },
 "nbformat": 4,
 "nbformat_minor": 2
}
